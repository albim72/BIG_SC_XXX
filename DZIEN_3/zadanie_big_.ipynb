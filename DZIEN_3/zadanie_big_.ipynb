{
  "cells": [
    {
      "cell_type": "code",
      "source": [
        "import numpy as np\n",
        "import pandas as pd\n",
        "import matplotlib.pyplot as plt\n",
        "import seaborn as sns\n",
        "\n",
        "from sklearn.model_selection import train_test_split\n",
        "from sklearn.preprocessing import StandardScaler\n",
        "from sklearn.metrics import confusion_matrix, classification_report, roc_curve, auc\n",
        "\n",
        "import tensorflow as tf\n",
        "from tensorflow.keras.models import Sequential\n",
        "from tensorflow.keras.layers import Dense\n"
      ],
      "execution_count": 2,
      "outputs": [],
      "metadata": {
        "datalore": {
          "node_id": "ZqjM2tWlkXxiqdxAA1booC",
          "type": "CODE",
          "hide_input_from_viewers": true,
          "hide_output_from_viewers": true
        },
        "id": "1HoxV2fpkVlt"
      }
    },
    {
      "cell_type": "code",
      "source": [
        "# Install the latest version of pandas\n",
        "!pip install --upgrade pandas\n",
        "\n",
        "# Załadowanie danych\n",
        "data = pd.read_csv('out.csv', on_bad_lines='warn') # skips lines that throw errors and provides a warning\n",
        "\n",
        "# Sprawdzenie pierwszych kilku wierszy\n",
        "print(data.head())\n",
        "\n",
        "# Sprawdzenie brakujących wartości\n",
        "print(data.isnull().sum())\n",
        "\n",
        "# Rozdzielenie cech (X) i etykiet (y)\n",
        "X = data.drop('label', axis=1)  # 'label' to kolumna z klasą (phishing lub nie-phishing)\n",
        "y = data['label']"
      ],
      "execution_count": 4,
      "outputs": [
        {
          "output_type": "stream",
          "name": "stdout",
          "text": [
            "Requirement already satisfied: pandas in /usr/local/lib/python3.10/dist-packages (2.2.3)\n",
            "Requirement already satisfied: numpy>=1.22.4 in /usr/local/lib/python3.10/dist-packages (from pandas) (1.26.4)\n",
            "Requirement already satisfied: python-dateutil>=2.8.2 in /usr/local/lib/python3.10/dist-packages (from pandas) (2.8.2)\n",
            "Requirement already satisfied: pytz>=2020.1 in /usr/local/lib/python3.10/dist-packages (from pandas) (2024.2)\n",
            "Requirement already satisfied: tzdata>=2022.7 in /usr/local/lib/python3.10/dist-packages (from pandas) (2024.1)\n",
            "Requirement already satisfied: six>=1.5 in /usr/local/lib/python3.10/dist-packages (from python-dateutil>=2.8.2->pandas) (1.16.0)\n",
            "                                             url          source       label  \\\n",
            "0  apaceast.cloudguest.central.arubanetworks.com  Cisco-Umbrella  legitimate   \n",
            "1                              quintadonoval.com        Majestic  legitimate   \n",
            "2                               nomadfactory.com        Majestic  legitimate   \n",
            "3                               tvarenasport.com        Majestic  legitimate   \n",
            "4                    widget.cluster.groovehq.com  Cisco-Umbrella  legitimate   \n",
            "\n",
            "   url_length  starts_with_ip  url_entropy  has_punycode  digit_letter_ratio  \\\n",
            "0          45           False     3.924535         False                 0.0   \n",
            "1          17           False     3.572469         False                 0.0   \n",
            "2          16           False     3.327820         False                 0.0   \n",
            "3          16           False     3.500000         False                 0.0   \n",
            "4          27           False     3.930270         False                 0.0   \n",
            "\n",
            "   dot_count  at_count  dash_count  tld_count  domain_has_digits  \\\n",
            "0          4         0           0          0              False   \n",
            "1          1         0           0          0              False   \n",
            "2          1         0           0          0              False   \n",
            "3          1         0           0          0              False   \n",
            "4          3         0           0          0              False   \n",
            "\n",
            "   subdomain_count  nan_char_entropy has_internal_links  \\\n",
            "0                3          0.310387              False   \n",
            "1                0          0.240439              False   \n",
            "2                0          0.250000              False   \n",
            "3                0          0.250000              False   \n",
            "4                2          0.352214              False   \n",
            "\n",
            "                                          whois_data  domain_age_days  \n",
            "0  {'domain_name': ['ARUBANETWORKS.COM', 'arubane...           8250.0  \n",
            "1  {'domain_name': ['QUINTADONOVAL.COM', 'quintad...          10106.0  \n",
            "2  {'domain_name': ['NOMADFACTORY.COM', 'nomadfac...           8111.0  \n",
            "3  {'domain_name': ['TVARENASPORT.COM', 'tvarenas...           5542.0  \n",
            "4  {'domain_name': 'GROOVEHQ.COM', 'registrar': '...           5098.0  \n",
            "url                      0\n",
            "source                   0\n",
            "label                    0\n",
            "url_length               0\n",
            "starts_with_ip           0\n",
            "url_entropy              0\n",
            "has_punycode             0\n",
            "digit_letter_ratio       0\n",
            "dot_count                0\n",
            "at_count                 0\n",
            "dash_count               0\n",
            "tld_count                0\n",
            "domain_has_digits        0\n",
            "subdomain_count          0\n",
            "nan_char_entropy         0\n",
            "has_internal_links       1\n",
            "whois_data             607\n",
            "domain_age_days       3643\n",
            "dtype: int64\n"
          ]
        },
        {
          "output_type": "stream",
          "name": "stderr",
          "text": [
            "<ipython-input-4-c551e19e813c>:5: DtypeWarning: Columns (15) have mixed types. Specify dtype option on import or set low_memory=False.\n",
            "  data = pd.read_csv('out.csv', on_bad_lines='warn') # skips lines that throw errors and provides a warning\n"
          ]
        }
      ],
      "metadata": {
        "datalore": {
          "node_id": "nijmhbbpbkj1KWISM0bfxD",
          "type": "CODE",
          "hide_input_from_viewers": true,
          "hide_output_from_viewers": true
        },
        "colab": {
          "base_uri": "https://localhost:8080/"
        },
        "id": "QUq5EO2YkVlv",
        "outputId": "7009a6f2-28b7-4c3e-b3f8-c298234eb3a9"
      }
    },
    {
      "cell_type": "code",
      "source": [
        "X_train, X_test, y_train, y_test = train_test_split(X, y, test_size=0.2, random_state=42)"
      ],
      "execution_count": 5,
      "outputs": [],
      "metadata": {
        "datalore": {
          "node_id": "Ytf8yvW8LE0vUfqaPtMmyS",
          "type": "CODE",
          "hide_input_from_viewers": true,
          "hide_output_from_viewers": true
        },
        "id": "pRzaIGNQkVlv"
      }
    },
    {
      "cell_type": "code",
      "source": [
        "scaler = StandardScaler()\n",
        "\n",
        "X_train = X_train.apply(pd.to_numeric, errors='coerce')\n",
        "# Fill NaN values with 0\n",
        "X_train = X_train.fillna(0)\n",
        "# Apply the scaler\n",
        "X_train = scaler.fit_transform(X_train)"
      ],
      "execution_count": 6,
      "outputs": [],
      "metadata": {
        "datalore": {
          "node_id": "KjAo5ppVzPtFG6ykMgqWC2",
          "type": "CODE",
          "hide_input_from_viewers": true,
          "hide_output_from_viewers": true
        },
        "id": "wYUwpltIkVlw"
      }
    },
    {
      "cell_type": "code",
      "source": [
        "# Budowanie modelu\n",
        "model = Sequential()\n",
        "\n",
        "# Warstwa wejściowa (dopasowana do liczby cech w X_train)\n",
        "model.add(Dense(128, activation='relu', input_shape=(X_train.shape[1],)))\n",
        "\n",
        "# Kilka warstw ukrytych\n",
        "model.add(Dense(64, activation='relu'))\n",
        "model.add(Dense(32, activation='relu'))\n",
        "\n",
        "# Warstwa wyjściowa z aktywacją sigmoid dla klasyfikacji binarnej\n",
        "model.add(Dense(1, activation='sigmoid'))\n",
        "\n",
        "# Kompilacja modelu\n",
        "model.compile(optimizer='adam', loss='binary_crossentropy', metrics=['accuracy'])"
      ],
      "execution_count": 7,
      "outputs": [
        {
          "output_type": "stream",
          "name": "stderr",
          "text": [
            "/usr/local/lib/python3.10/dist-packages/keras/src/layers/core/dense.py:87: UserWarning: Do not pass an `input_shape`/`input_dim` argument to a layer. When using Sequential models, prefer using an `Input(shape)` object as the first layer in the model instead.\n",
            "  super().__init__(activity_regularizer=activity_regularizer, **kwargs)\n"
          ]
        }
      ],
      "metadata": {
        "datalore": {
          "node_id": "Pr8eNPB3zf9HYz9tWRahVY",
          "type": "CODE",
          "hide_input_from_viewers": true,
          "hide_output_from_viewers": true
        },
        "colab": {
          "base_uri": "https://localhost:8080/"
        },
        "id": "PidBNOU7kVlw",
        "outputId": "43efdd04-dbb1-418e-a8f3-fb3dc854e667"
      }
    },
    {
      "cell_type": "code",
      "source": [
        "from sklearn.preprocessing import LabelEncoder\n",
        "\n",
        "le = LabelEncoder()\n",
        "y_train = le.fit_transform(y_train)\n",
        "\n",
        "history = model.fit(X_train, y_train, epochs=20, batch_size=32, validation_split=0.2)"
      ],
      "execution_count": 8,
      "outputs": [
        {
          "output_type": "stream",
          "name": "stdout",
          "text": [
            "Epoch 1/20\n",
            "\u001b[1m860/860\u001b[0m \u001b[32m━━━━━━━━━━━━━━━━━━━━\u001b[0m\u001b[37m\u001b[0m \u001b[1m9s\u001b[0m 6ms/step - accuracy: 0.9995 - loss: 0.0454 - val_accuracy: 1.0000 - val_loss: 5.2184e-06\n",
            "Epoch 2/20\n",
            "\u001b[1m860/860\u001b[0m \u001b[32m━━━━━━━━━━━━━━━━━━━━\u001b[0m\u001b[37m\u001b[0m \u001b[1m7s\u001b[0m 2ms/step - accuracy: 1.0000 - loss: 3.8665e-06 - val_accuracy: 1.0000 - val_loss: 9.9506e-07\n",
            "Epoch 3/20\n",
            "\u001b[1m860/860\u001b[0m \u001b[32m━━━━━━━━━━━━━━━━━━━━\u001b[0m\u001b[37m\u001b[0m \u001b[1m3s\u001b[0m 2ms/step - accuracy: 1.0000 - loss: 8.9933e-07 - val_accuracy: 1.0000 - val_loss: 3.6305e-07\n",
            "Epoch 4/20\n",
            "\u001b[1m860/860\u001b[0m \u001b[32m━━━━━━━━━━━━━━━━━━━━\u001b[0m\u001b[37m\u001b[0m \u001b[1m2s\u001b[0m 2ms/step - accuracy: 1.0000 - loss: 3.6439e-07 - val_accuracy: 1.0000 - val_loss: 1.6846e-07\n",
            "Epoch 5/20\n",
            "\u001b[1m860/860\u001b[0m \u001b[32m━━━━━━━━━━━━━━━━━━━━\u001b[0m\u001b[37m\u001b[0m \u001b[1m3s\u001b[0m 3ms/step - accuracy: 1.0000 - loss: 1.7457e-07 - val_accuracy: 1.0000 - val_loss: 8.7518e-08\n",
            "Epoch 6/20\n",
            "\u001b[1m860/860\u001b[0m \u001b[32m━━━━━━━━━━━━━━━━━━━━\u001b[0m\u001b[37m\u001b[0m \u001b[1m3s\u001b[0m 4ms/step - accuracy: 1.0000 - loss: 8.8283e-08 - val_accuracy: 1.0000 - val_loss: 4.8610e-08\n",
            "Epoch 7/20\n",
            "\u001b[1m860/860\u001b[0m \u001b[32m━━━━━━━━━━━━━━━━━━━━\u001b[0m\u001b[37m\u001b[0m \u001b[1m4s\u001b[0m 2ms/step - accuracy: 1.0000 - loss: 5.0243e-08 - val_accuracy: 1.0000 - val_loss: 2.8284e-08\n",
            "Epoch 8/20\n",
            "\u001b[1m860/860\u001b[0m \u001b[32m━━━━━━━━━━━━━━━━━━━━\u001b[0m\u001b[37m\u001b[0m \u001b[1m3s\u001b[0m 2ms/step - accuracy: 1.0000 - loss: 3.0147e-08 - val_accuracy: 1.0000 - val_loss: 1.7006e-08\n",
            "Epoch 9/20\n",
            "\u001b[1m860/860\u001b[0m \u001b[32m━━━━━━━━━━━━━━━━━━━━\u001b[0m\u001b[37m\u001b[0m \u001b[1m2s\u001b[0m 2ms/step - accuracy: 1.0000 - loss: 1.8482e-08 - val_accuracy: 1.0000 - val_loss: 1.0503e-08\n",
            "Epoch 10/20\n",
            "\u001b[1m860/860\u001b[0m \u001b[32m━━━━━━━━━━━━━━━━━━━━\u001b[0m\u001b[37m\u001b[0m \u001b[1m3s\u001b[0m 3ms/step - accuracy: 1.0000 - loss: 1.1211e-08 - val_accuracy: 1.0000 - val_loss: 6.6379e-09\n",
            "Epoch 11/20\n",
            "\u001b[1m860/860\u001b[0m \u001b[32m━━━━━━━━━━━━━━━━━━━━\u001b[0m\u001b[37m\u001b[0m \u001b[1m3s\u001b[0m 4ms/step - accuracy: 1.0000 - loss: 7.4560e-09 - val_accuracy: 1.0000 - val_loss: 4.3070e-09\n",
            "Epoch 12/20\n",
            "\u001b[1m860/860\u001b[0m \u001b[32m━━━━━━━━━━━━━━━━━━━━\u001b[0m\u001b[37m\u001b[0m \u001b[1m2s\u001b[0m 2ms/step - accuracy: 1.0000 - loss: 5.0387e-09 - val_accuracy: 1.0000 - val_loss: 2.8469e-09\n",
            "Epoch 13/20\n",
            "\u001b[1m860/860\u001b[0m \u001b[32m━━━━━━━━━━━━━━━━━━━━\u001b[0m\u001b[37m\u001b[0m \u001b[1m2s\u001b[0m 2ms/step - accuracy: 1.0000 - loss: 3.2591e-09 - val_accuracy: 1.0000 - val_loss: 1.9261e-09\n",
            "Epoch 14/20\n",
            "\u001b[1m860/860\u001b[0m \u001b[32m━━━━━━━━━━━━━━━━━━━━\u001b[0m\u001b[37m\u001b[0m \u001b[1m2s\u001b[0m 2ms/step - accuracy: 1.0000 - loss: 2.3109e-09 - val_accuracy: 1.0000 - val_loss: 1.3312e-09\n",
            "Epoch 15/20\n",
            "\u001b[1m860/860\u001b[0m \u001b[32m━━━━━━━━━━━━━━━━━━━━\u001b[0m\u001b[37m\u001b[0m \u001b[1m2s\u001b[0m 2ms/step - accuracy: 1.0000 - loss: 1.4254e-09 - val_accuracy: 1.0000 - val_loss: 9.3389e-10\n",
            "Epoch 16/20\n",
            "\u001b[1m860/860\u001b[0m \u001b[32m━━━━━━━━━━━━━━━━━━━━\u001b[0m\u001b[37m\u001b[0m \u001b[1m3s\u001b[0m 3ms/step - accuracy: 1.0000 - loss: 1.1788e-09 - val_accuracy: 1.0000 - val_loss: 6.6979e-10\n",
            "Epoch 17/20\n",
            "\u001b[1m860/860\u001b[0m \u001b[32m━━━━━━━━━━━━━━━━━━━━\u001b[0m\u001b[37m\u001b[0m \u001b[1m4s\u001b[0m 2ms/step - accuracy: 1.0000 - loss: 7.8424e-10 - val_accuracy: 1.0000 - val_loss: 4.8546e-10\n",
            "Epoch 18/20\n",
            "\u001b[1m860/860\u001b[0m \u001b[32m━━━━━━━━━━━━━━━━━━━━\u001b[0m\u001b[37m\u001b[0m \u001b[1m2s\u001b[0m 2ms/step - accuracy: 1.0000 - loss: 5.3224e-10 - val_accuracy: 1.0000 - val_loss: 3.5579e-10\n",
            "Epoch 19/20\n",
            "\u001b[1m860/860\u001b[0m \u001b[32m━━━━━━━━━━━━━━━━━━━━\u001b[0m\u001b[37m\u001b[0m \u001b[1m2s\u001b[0m 2ms/step - accuracy: 1.0000 - loss: 3.7838e-10 - val_accuracy: 1.0000 - val_loss: 2.6403e-10\n",
            "Epoch 20/20\n",
            "\u001b[1m860/860\u001b[0m \u001b[32m━━━━━━━━━━━━━━━━━━━━\u001b[0m\u001b[37m\u001b[0m \u001b[1m2s\u001b[0m 2ms/step - accuracy: 1.0000 - loss: 3.4751e-10 - val_accuracy: 1.0000 - val_loss: 1.9783e-10\n"
          ]
        }
      ],
      "metadata": {
        "datalore": {
          "node_id": "uE6QF3x6pkjJ9aVGXQ74pt",
          "type": "CODE",
          "hide_input_from_viewers": true,
          "hide_output_from_viewers": true
        },
        "colab": {
          "base_uri": "https://localhost:8080/"
        },
        "id": "x41S7XwykVlx",
        "outputId": "100723f2-4fa7-4b9f-f878-27b0bbeb19d7"
      }
    },
    {
      "cell_type": "code",
      "source": [
        "# Ewaluacja modelu na danych testowych\n",
        "if isinstance(X_test, np.ndarray):\n",
        "    X_test = pd.DataFrame(X_test)\n",
        "\n",
        "# Apply the same preprocessing steps to X_test\n",
        "X_test = X_test.apply(pd.to_numeric, errors='coerce')\n",
        "X_test = X_test.fillna(0)\n",
        "X_test = scaler.transform(X_test)\n",
        "\n",
        "# Ensure y_test is encoded to numerical values (0 and 1)\n",
        "from sklearn.preprocessing import LabelEncoder\n",
        "le = LabelEncoder()\n",
        "y_test = le.fit_transform(y_test)\n",
        "\n",
        "# Ewaluacja modelu na danych testowych\n",
        "loss, accuracy = model.evaluate(X_test, y_test)\n",
        "print(f\"Test accuracy: {accuracy:.4f}\")"
      ],
      "execution_count": 9,
      "outputs": [
        {
          "output_type": "stream",
          "name": "stdout",
          "text": [
            "\u001b[1m269/269\u001b[0m \u001b[32m━━━━━━━━━━━━━━━━━━━━\u001b[0m\u001b[37m\u001b[0m \u001b[1m0s\u001b[0m 1ms/step - accuracy: 1.0000 - loss: 2.0206e-10\n",
            "Test accuracy: 1.0000\n"
          ]
        }
      ],
      "metadata": {
        "datalore": {
          "node_id": "ECjj8O2DXd0mBnceDijwTX",
          "type": "CODE",
          "hide_input_from_viewers": true,
          "hide_output_from_viewers": true
        },
        "colab": {
          "base_uri": "https://localhost:8080/"
        },
        "id": "4AgdhiA5kVly",
        "outputId": "50e2ebfc-812a-4879-a513-bca5967bd398"
      }
    },
    {
      "cell_type": "code",
      "source": [
        "# Predykcje na zbiorze testowym\n",
        "y_pred = (model.predict(X_test) > 0.5).astype(\"int32\")\n",
        "\n",
        "# Macierz pomyłek\n",
        "conf_matrix = confusion_matrix(y_test, y_pred)\n",
        "\n",
        "# Wyświetlenie macierzy\n",
        "sns.heatmap(conf_matrix, annot=True, fmt='d', cmap='Blues')\n",
        "plt.title('Confusion Matrix')\n",
        "plt.xlabel('Predicted')\n",
        "plt.ylabel('True')\n",
        "plt.show()\n",
        "\n",
        "# Raport klasyfikacji\n",
        "print(classification_report(y_test, y_pred))"
      ],
      "execution_count": 11,
      "outputs": [
        {
          "output_type": "stream",
          "name": "stdout",
          "text": [
            "\u001b[1m269/269\u001b[0m \u001b[32m━━━━━━━━━━━━━━━━━━━━\u001b[0m\u001b[37m\u001b[0m \u001b[1m0s\u001b[0m 2ms/step\n"
          ]
        },
        {
          "output_type": "stream",
          "name": "stderr",
          "text": [
            "/usr/local/lib/python3.10/dist-packages/sklearn/metrics/_classification.py:409: UserWarning: A single label was found in 'y_true' and 'y_pred'. For the confusion matrix to have the correct shape, use the 'labels' parameter to pass all known labels.\n",
            "  warnings.warn(\n"
          ]
        },
        {
          "output_type": "display_data",
          "data": {
            "text/plain": [
              "<Figure size 640x480 with 2 Axes>"
            ],
            "image/png": "[encoded data removed]"
          },
          "metadata": {}
        },
        {
          "output_type": "stream",
          "name": "stdout",
          "text": [
            "              precision    recall  f1-score   support\n",
            "\n",
            "           0       1.00      1.00      1.00      8599\n",
            "\n",
            "    accuracy                           1.00      8599\n",
            "   macro avg       1.00      1.00      1.00      8599\n",
            "weighted avg       1.00      1.00      1.00      8599\n",
            "\n"
          ]
        }
      ],
      "metadata": {
        "datalore": {
          "node_id": "lVGMWm0yIsIRIU1YvqQvnS",
          "type": "CODE",
          "hide_input_from_viewers": true,
          "hide_output_from_viewers": true
        },
        "id": "S-Da63QakVlz",
        "outputId": "ac27a75b-d5f8-482e-ef80-c78d7285dcba",
        "colab": {
          "base_uri": "https://localhost:8080/",
          "height": 683
        }
      }
    },
    {
      "cell_type": "code",
      "source": [
        "# Obliczanie wyników prawdopodobieństwa\n",
        "y_pred_prob = model.predict(X_test)\n",
        "\n",
        "# Wykres ROC\n",
        "fpr, tpr, thresholds = roc_curve(y_test, y_pred_prob)\n",
        "roc_auc = auc(fpr, tpr)\n",
        "\n",
        "# Wyświetlanie wykresu ROC\n",
        "plt.plot(fpr, tpr, label=f'ROC curve (AUC = {roc_auc:.2f})')\n",
        "plt.plot([0, 1], [0, 1], 'k--')  # wykres linii losowej\n",
        "plt.xlabel('False Positive Rate')\n",
        "plt.ylabel('True Positive Rate')\n",
        "plt.title('Receiver Operating Characteristic (ROC)')\n",
        "plt.legend(loc='lower right')\n",
        "plt.show()"
      ],
      "execution_count": 12,
      "outputs": [
        {
          "output_type": "stream",
          "name": "stdout",
          "text": [
            "\u001b[1m269/269\u001b[0m \u001b[32m━━━━━━━━━━━━━━━━━━━━\u001b[0m\u001b[37m\u001b[0m \u001b[1m0s\u001b[0m 1ms/step\n"
          ]
        },
        {
          "output_type": "stream",
          "name": "stderr",
          "text": [
            "/usr/local/lib/python3.10/dist-packages/sklearn/metrics/_ranking.py:1183: UndefinedMetricWarning: No positive samples in y_true, true positive value should be meaningless\n",
            "  warnings.warn(\n"
          ]
        },
        {
          "output_type": "display_data",
          "data": {
            "text/plain": [
              "<Figure size 640x480 with 1 Axes>"
            ],
            "image/png": "[encoded data removed]"
          },
          "metadata": {}
        }
      ],
      "metadata": {
        "datalore": {
          "node_id": "uOAGWXLmQh2RYOPVI5zO3I",
          "type": "CODE",
          "hide_input_from_viewers": true,
          "hide_output_from_viewers": true
        },
        "id": "6RdSw1bBkVlz",
        "outputId": "da5f1b14-765d-4894-93c5-ed21da447545",
        "colab": {
          "base_uri": "https://localhost:8080/",
          "height": 544
        }
      }
    }
  ],
  "metadata": {
    "kernelspec": {
      "display_name": "Python",
      "language": "python",
      "name": "python"
    },
    "datalore": {
      "computation_mode": "JUPYTER",
      "package_manager": "pip",
      "base_environment": "default",
      "packages": [],
      "report_row_ids": [],
      "version": 3
    },
    "colab": {
      "provenance": []
    }
  },
  "nbformat": 4,
  "nbformat_minor": 0
}